{
 "cells": [
  {
   "cell_type": "code",
   "execution_count": 75,
   "id": "81bd85c1",
   "metadata": {},
   "outputs": [],
   "source": [
    "import pandas as pd\n",
    "data = pd.read_csv('merged.csv')"
   ]
  },
  {
   "cell_type": "code",
   "execution_count": 78,
   "id": "b5a4b78c",
   "metadata": {},
   "outputs": [
    {
     "data": {
      "text/html": [
       "<div>\n",
       "<style scoped>\n",
       "    .dataframe tbody tr th:only-of-type {\n",
       "        vertical-align: middle;\n",
       "    }\n",
       "\n",
       "    .dataframe tbody tr th {\n",
       "        vertical-align: top;\n",
       "    }\n",
       "\n",
       "    .dataframe thead th {\n",
       "        text-align: right;\n",
       "    }\n",
       "</style>\n",
       "<table border=\"1\" class=\"dataframe\">\n",
       "  <thead>\n",
       "    <tr style=\"text-align: right;\">\n",
       "      <th></th>\n",
       "      <th>bin</th>\n",
       "      <th>merchant_encoded</th>\n",
       "      <th>card_type_encoded</th>\n",
       "      <th>status_encoded</th>\n",
       "      <th>is_3d_encoded</th>\n",
       "      <th>currency_encoded</th>\n",
       "      <th>processor_name_encoded</th>\n",
       "      <th>project_name_encoded</th>\n",
       "    </tr>\n",
       "  </thead>\n",
       "  <tbody>\n",
       "    <tr>\n",
       "      <th>0</th>\n",
       "      <td>416549</td>\n",
       "      <td>24</td>\n",
       "      <td>8</td>\n",
       "      <td>0</td>\n",
       "      <td>5</td>\n",
       "      <td>3</td>\n",
       "      <td>41</td>\n",
       "      <td>31</td>\n",
       "    </tr>\n",
       "    <tr>\n",
       "      <th>1</th>\n",
       "      <td>446291</td>\n",
       "      <td>14</td>\n",
       "      <td>8</td>\n",
       "      <td>0</td>\n",
       "      <td>5</td>\n",
       "      <td>3</td>\n",
       "      <td>4</td>\n",
       "      <td>13</td>\n",
       "    </tr>\n",
       "    <tr>\n",
       "      <th>2</th>\n",
       "      <td>535666</td>\n",
       "      <td>24</td>\n",
       "      <td>6</td>\n",
       "      <td>0</td>\n",
       "      <td>5</td>\n",
       "      <td>1</td>\n",
       "      <td>63</td>\n",
       "      <td>31</td>\n",
       "    </tr>\n",
       "    <tr>\n",
       "      <th>3</th>\n",
       "      <td>404137</td>\n",
       "      <td>18</td>\n",
       "      <td>8</td>\n",
       "      <td>0</td>\n",
       "      <td>4</td>\n",
       "      <td>3</td>\n",
       "      <td>0</td>\n",
       "      <td>19</td>\n",
       "    </tr>\n",
       "    <tr>\n",
       "      <th>4</th>\n",
       "      <td>464579</td>\n",
       "      <td>7</td>\n",
       "      <td>8</td>\n",
       "      <td>0</td>\n",
       "      <td>4</td>\n",
       "      <td>3</td>\n",
       "      <td>0</td>\n",
       "      <td>3</td>\n",
       "    </tr>\n",
       "  </tbody>\n",
       "</table>\n",
       "</div>"
      ],
      "text/plain": [
       "      bin  merchant_encoded  card_type_encoded  status_encoded  is_3d_encoded  \\\n",
       "0  416549                24                  8               0              5   \n",
       "1  446291                14                  8               0              5   \n",
       "2  535666                24                  6               0              5   \n",
       "3  404137                18                  8               0              4   \n",
       "4  464579                 7                  8               0              4   \n",
       "\n",
       "   currency_encoded  processor_name_encoded  project_name_encoded  \n",
       "0                 3                      41                    31  \n",
       "1                 3                       4                    13  \n",
       "2                 1                      63                    31  \n",
       "3                 3                       0                    19  \n",
       "4                 3                       0                     3  "
      ]
     },
     "execution_count": 78,
     "metadata": {},
     "output_type": "execute_result"
    }
   ],
   "source": [
    "data.head()"
   ]
  },
  {
   "cell_type": "code",
   "execution_count": 79,
   "id": "459c048f",
   "metadata": {},
   "outputs": [
    {
     "name": "stdout",
     "output_type": "stream",
     "text": [
      "Duplicates: 0\n"
     ]
    }
   ],
   "source": [
    "# data.head()\n",
    "df = data.drop_duplicates()\n",
    "print(\"Duplicates:\", df.duplicated().sum())\n",
    "\n"
   ]
  },
  {
   "cell_type": "code",
   "execution_count": null,
   "id": "ee103554",
   "metadata": {},
   "outputs": [],
   "source": [
    "# if 'card_no' in data.columns:\n",
    "#     data['bin'] = data['card_no'].astype(str).str[:6]\n",
    "\n",
    "# if 'card_no' in data.columns:\n",
    "#     data.drop('card_no', axis=1, inplace=True)"
   ]
  },
  {
   "cell_type": "code",
   "execution_count": null,
   "id": "ff6faf61",
   "metadata": {},
   "outputs": [],
   "source": [
    "# data.to_csv('filtered_data.csv', index=False)"
   ]
  },
  {
   "cell_type": "code",
   "execution_count": null,
   "id": "44ae5d1d",
   "metadata": {},
   "outputs": [],
   "source": [
    "# Define the columns you want to keep\n",
    "# columns_to_keep = [\n",
    "#     'merchant', \n",
    "#     'processor_name', \n",
    "#     'status', \n",
    "#     'is_3d', \n",
    "#     'bin', \n",
    "#     'currency', \n",
    "#     'card_type'\n",
    "# ]\n",
    "\n",
    "# # Create a new DataFrame with only those columns\n",
    "# filtered_data = data[columns_to_keep]\n",
    "\n",
    "# # Save it to a new CSV file\n",
    "# filtered_data.to_csv('filtered_data.csv', index=False)\n"
   ]
  },
  {
   "cell_type": "code",
   "execution_count": 3,
   "id": "01be54ab",
   "metadata": {},
   "outputs": [
    {
     "data": {
      "text/plain": [
       "merchant          0\n",
       "card_type         0\n",
       "status            0\n",
       "is_3d             0\n",
       "currency          0\n",
       "processor_name    0\n",
       "project_name      0\n",
       "bin               0\n",
       "dtype: int64"
      ]
     },
     "execution_count": 3,
     "metadata": {},
     "output_type": "execute_result"
    }
   ],
   "source": [
    "data.isnull().sum()"
   ]
  },
  {
   "cell_type": "code",
   "execution_count": 4,
   "id": "9800a57b",
   "metadata": {},
   "outputs": [
    {
     "data": {
      "text/plain": [
       "(2449210, 8)"
      ]
     },
     "execution_count": 4,
     "metadata": {},
     "output_type": "execute_result"
    }
   ],
   "source": [
    "data.shape"
   ]
  },
  {
   "cell_type": "code",
   "execution_count": 5,
   "id": "410c4317",
   "metadata": {},
   "outputs": [],
   "source": [
    "def customEncoder(column_name_to_encode):\n",
    "    import json\n",
    "    import os\n",
    "    if column_name_to_encode in data.columns:\n",
    "        # 1. Fill missing values with most common value\n",
    "        most_common = data[column_name_to_encode].mode()[0]\n",
    "        data[column_name_to_encode] = data[column_name_to_encode].fillna(most_common)\n",
    "        mapping_file = str(column_name_to_encode)+'_mapping.json'\n",
    "\n",
    "        # 2. Load existing mapping or start a new one\n",
    "        if os.path.exists(mapping_file):\n",
    "            with open(mapping_file, 'r') as f:\n",
    "                country_mapping = json.load(f)\n",
    "        else:\n",
    "            country_mapping = {}\n",
    "\n",
    "        # 3. Add any new values to the mapping\n",
    "        current_max = max(country_mapping.values(), default=-1)\n",
    "        new_keys_added = False\n",
    "\n",
    "        for country in sorted(data[column_name_to_encode].unique()):\n",
    "            if country not in country_mapping:\n",
    "                current_max += 1\n",
    "                country_mapping[country] = current_max\n",
    "                new_keys_added = True\n",
    "\n",
    "        # 4. Encode the column using the updated mapping\n",
    "        data[str(column_name_to_encode)+'_encoded'] = data[column_name_to_encode].map(country_mapping)\n",
    "\n",
    "        # 5. Save the updated mapping back to file (only if needed)\n",
    "        if new_keys_added or not os.path.exists(mapping_file):\n",
    "            with open(mapping_file, 'w') as f:\n",
    "                json.dump({str(k): v for k, v in country_mapping.items()}, f)\n",
    "            print(\"✅ Mapping updated and saved.\")\n",
    "        else:\n",
    "            print(\"✅ Mapping loaded (no new keys).\")\n",
    "            \n",
    "    if column_name_to_encode in data.columns:\n",
    "        data.drop(column_name_to_encode, axis=1, inplace=True)"
   ]
  },
  {
   "cell_type": "code",
   "execution_count": 6,
   "id": "a51629f9",
   "metadata": {},
   "outputs": [
    {
     "data": {
      "text/plain": [
       "Index(['merchant', 'card_type', 'status', 'is_3d', 'currency',\n",
       "       'processor_name', 'project_name', 'bin'],\n",
       "      dtype='object')"
      ]
     },
     "execution_count": 6,
     "metadata": {},
     "output_type": "execute_result"
    }
   ],
   "source": [
    "data.columns"
   ]
  },
  {
   "cell_type": "code",
   "execution_count": 7,
   "id": "4a6973ba",
   "metadata": {},
   "outputs": [
    {
     "name": "stdout",
     "output_type": "stream",
     "text": [
      "✅ Mapping updated and saved.\n",
      "✅ Mapping updated and saved.\n",
      "✅ Mapping loaded (no new keys).\n",
      "✅ Mapping updated and saved.\n",
      "✅ Mapping updated and saved.\n",
      "✅ Mapping updated and saved.\n",
      "✅ Mapping updated and saved.\n"
     ]
    },
    {
     "data": {
      "text/html": [
       "<div>\n",
       "<style scoped>\n",
       "    .dataframe tbody tr th:only-of-type {\n",
       "        vertical-align: middle;\n",
       "    }\n",
       "\n",
       "    .dataframe tbody tr th {\n",
       "        vertical-align: top;\n",
       "    }\n",
       "\n",
       "    .dataframe thead th {\n",
       "        text-align: right;\n",
       "    }\n",
       "</style>\n",
       "<table border=\"1\" class=\"dataframe\">\n",
       "  <thead>\n",
       "    <tr style=\"text-align: right;\">\n",
       "      <th></th>\n",
       "      <th>bin</th>\n",
       "      <th>merchant_encoded</th>\n",
       "      <th>card_type_encoded</th>\n",
       "      <th>status_encoded</th>\n",
       "      <th>is_3d_encoded</th>\n",
       "      <th>currency_encoded</th>\n",
       "      <th>processor_name_encoded</th>\n",
       "      <th>project_name_encoded</th>\n",
       "    </tr>\n",
       "  </thead>\n",
       "  <tbody>\n",
       "    <tr>\n",
       "      <th>0</th>\n",
       "      <td>416549</td>\n",
       "      <td>24</td>\n",
       "      <td>8</td>\n",
       "      <td>0</td>\n",
       "      <td>5</td>\n",
       "      <td>3</td>\n",
       "      <td>41</td>\n",
       "      <td>31</td>\n",
       "    </tr>\n",
       "    <tr>\n",
       "      <th>1</th>\n",
       "      <td>446291</td>\n",
       "      <td>14</td>\n",
       "      <td>8</td>\n",
       "      <td>0</td>\n",
       "      <td>5</td>\n",
       "      <td>3</td>\n",
       "      <td>4</td>\n",
       "      <td>13</td>\n",
       "    </tr>\n",
       "    <tr>\n",
       "      <th>2</th>\n",
       "      <td>535666</td>\n",
       "      <td>24</td>\n",
       "      <td>6</td>\n",
       "      <td>0</td>\n",
       "      <td>5</td>\n",
       "      <td>1</td>\n",
       "      <td>63</td>\n",
       "      <td>31</td>\n",
       "    </tr>\n",
       "    <tr>\n",
       "      <th>3</th>\n",
       "      <td>404137</td>\n",
       "      <td>18</td>\n",
       "      <td>8</td>\n",
       "      <td>0</td>\n",
       "      <td>4</td>\n",
       "      <td>3</td>\n",
       "      <td>0</td>\n",
       "      <td>19</td>\n",
       "    </tr>\n",
       "    <tr>\n",
       "      <th>4</th>\n",
       "      <td>464579</td>\n",
       "      <td>7</td>\n",
       "      <td>8</td>\n",
       "      <td>0</td>\n",
       "      <td>4</td>\n",
       "      <td>3</td>\n",
       "      <td>0</td>\n",
       "      <td>3</td>\n",
       "    </tr>\n",
       "  </tbody>\n",
       "</table>\n",
       "</div>"
      ],
      "text/plain": [
       "      bin  merchant_encoded  card_type_encoded  status_encoded  is_3d_encoded  \\\n",
       "0  416549                24                  8               0              5   \n",
       "1  446291                14                  8               0              5   \n",
       "2  535666                24                  6               0              5   \n",
       "3  404137                18                  8               0              4   \n",
       "4  464579                 7                  8               0              4   \n",
       "\n",
       "   currency_encoded  processor_name_encoded  project_name_encoded  \n",
       "0                 3                      41                    31  \n",
       "1                 3                       4                    13  \n",
       "2                 1                      63                    31  \n",
       "3                 3                       0                    19  \n",
       "4                 3                       0                     3  "
      ]
     },
     "execution_count": 7,
     "metadata": {},
     "output_type": "execute_result"
    }
   ],
   "source": [
    "for i in data.columns:\n",
    "    if i != 'bin':\n",
    "        customEncoder(i)\n",
    "data.head()"
   ]
  },
  {
   "cell_type": "code",
   "execution_count": 8,
   "id": "ae970195",
   "metadata": {},
   "outputs": [],
   "source": [
    "data.to_csv(\"merged.csv\", index=False)"
   ]
  },
  {
   "cell_type": "code",
   "execution_count": 9,
   "id": "f72198ee",
   "metadata": {},
   "outputs": [
    {
     "data": {
      "text/plain": [
       "(2449210, 8)"
      ]
     },
     "execution_count": 9,
     "metadata": {},
     "output_type": "execute_result"
    }
   ],
   "source": [
    "data.shape"
   ]
  },
  {
   "cell_type": "code",
   "execution_count": 10,
   "id": "55cfaff6",
   "metadata": {},
   "outputs": [
    {
     "name": "stdout",
     "output_type": "stream",
     "text": [
      "status_encoded            1.000000\n",
      "currency_encoded          0.120118\n",
      "card_type_encoded         0.088752\n",
      "processor_name_encoded   -0.023441\n",
      "bin                      -0.065255\n",
      "merchant_encoded         -0.095645\n",
      "is_3d_encoded            -0.718284\n",
      "Name: status_encoded, dtype: float64\n"
     ]
    }
   ],
   "source": [
    "import pandas as pd\n",
    "\n",
    "# Load your dataset\n",
    "df = pd.read_csv('merged.csv')\n",
    "\n",
    "# Define your provided relevant columns\n",
    "relevant_columns = [\n",
    "    'merchant_encoded', 'processor_name_encoded', 'status_encoded', 'is_3d_encoded', 'currency_encoded', 'card_type_encoded','bin'\n",
    "]\n",
    "\n",
    "# Subset your data\n",
    "data = df[relevant_columns]\n",
    "\n",
    "# Calculate correlations with status\n",
    "correlation_with_status = data.corr()['status_encoded'].sort_values(ascending=False)\n",
    "\n",
    "# Display correlations\n",
    "print(correlation_with_status)\n"
   ]
  },
  {
   "cell_type": "code",
   "execution_count": 5,
   "id": "e7c25925",
   "metadata": {},
   "outputs": [
    {
     "name": "stdout",
     "output_type": "stream",
     "text": [
      "✅ Accuracy: 0.8761207741303283\n",
      "📊 AUC: 0.9329421913321811\n",
      "\n",
      "📄 Classification Report:\n",
      "               precision    recall  f1-score   support\n",
      "\n",
      "           0       0.95      0.78      0.85    228608\n",
      "           1       0.83      0.96      0.89    261232\n",
      "\n",
      "    accuracy                           0.88    489840\n",
      "   macro avg       0.89      0.87      0.87    489840\n",
      "weighted avg       0.89      0.88      0.87    489840\n",
      "\n",
      "\n",
      "✅ Exported processor success model and supporting stats.\n",
      "Train Accuracy: 0.8753220439327127\n"
     ]
    }
   ],
   "source": [
    "import pandas as pd\n",
    "from sklearn.model_selection import train_test_split\n",
    "from sklearn.metrics import classification_report, accuracy_score, roc_auc_score\n",
    "from xgboost import XGBClassifier\n",
    "import pickle\n",
    "\n",
    "# ---------------------------\n",
    "# Load data\n",
    "# ---------------------------\n",
    "df = pd.read_csv(\"merged.csv\")\n",
    "\n",
    "# ---------------------------\n",
    "# Filter & Prepare base features\n",
    "# ---------------------------\n",
    "model_df = df[['is_3d_encoded', 'bin', 'processor_name_encoded', 'status_encoded']].dropna(subset=['bin'])\n",
    "\n",
    "# Create binary success flag\n",
    "model_df['success_flag'] = model_df['status_encoded'].apply(lambda x: 1 if x == 0 else 0)\n",
    "\n",
    "# Add bin_prefix and bin_suffix\n",
    "model_df['bin_prefix'] = model_df['bin'] // 1000\n",
    "model_df['bin_suffix'] = model_df['bin'] % 1000\n",
    "\n",
    "# Filter processors with at least 10 samples\n",
    "valid_processors = model_df['processor_name_encoded'].value_counts()\n",
    "valid_processors = valid_processors[valid_processors >= 10].index\n",
    "model_df = model_df[model_df['processor_name_encoded'].isin(valid_processors)]\n",
    "\n",
    "# ---------------------------\n",
    "# Feature Aggregations\n",
    "# ---------------------------\n",
    "bin_tx = model_df.groupby('bin').size().reset_index(name='bin_tx_count')\n",
    "bin_success = model_df.groupby('bin')['success_flag'].mean().reset_index(name='bin_success_rate')\n",
    "proc_success = model_df.groupby('processor_name_encoded')['success_flag'].mean().reset_index(name='processor_success_rate')\n",
    "\n",
    "bin_proc_group = model_df.groupby(['bin', 'processor_name_encoded']).agg(\n",
    "    bin_processor_tx_count=('success_flag', 'count'),\n",
    "    bin_processor_success_count=('success_flag', 'sum')\n",
    ").reset_index()\n",
    "\n",
    "bin_proc_group['bin_processor_success_rate'] = (\n",
    "    bin_proc_group['bin_processor_success_count'] / bin_proc_group['bin_processor_tx_count']\n",
    ")\n",
    "\n",
    "# ---------------------------\n",
    "# Merge All Features\n",
    "# ---------------------------\n",
    "model_df = model_df.merge(bin_tx, on='bin', how='left')\n",
    "model_df = model_df.merge(bin_success, on='bin', how='left')\n",
    "model_df = model_df.merge(proc_success, on='processor_name_encoded', how='left')\n",
    "model_df = model_df.merge(bin_proc_group, on=['bin', 'processor_name_encoded'], how='left')\n",
    "\n",
    "# ---------------------------\n",
    "# Handle any missing values\n",
    "# ---------------------------\n",
    "model_df = model_df.fillna(0)  # Fill any leftover NaNs with 0\n",
    "\n",
    "# ---------------------------\n",
    "# Feature & Label Selection\n",
    "# ---------------------------\n",
    "features = [\n",
    "    'bin', 'bin_prefix', 'bin_suffix', 'is_3d_encoded',\n",
    "    'bin_tx_count', 'bin_success_rate', 'processor_success_rate',\n",
    "    'bin_processor_tx_count', 'bin_processor_success_count', 'bin_processor_success_rate'\n",
    "]\n",
    "\n",
    "X = model_df[features]\n",
    "y = model_df['success_flag']\n",
    "\n",
    "# ---------------------------\n",
    "# Train-Test Split\n",
    "# ---------------------------\n",
    "X_train, X_test, y_train, y_test = train_test_split(\n",
    "    X, y, stratify=y, test_size=0.2, random_state=42\n",
    ")\n",
    "\n",
    "# ---------------------------\n",
    "# Model Training\n",
    "# ---------------------------\n",
    "model = XGBClassifier(\n",
    "    eval_metric='logloss',\n",
    "    n_estimators=200,\n",
    "    learning_rate=0.05,\n",
    "    max_depth=5,\n",
    "    subsample=0.8,\n",
    "    colsample_bytree=0.8,\n",
    "    random_state=42\n",
    ")\n",
    "model.fit(X_train, y_train)\n",
    "\n",
    "# ---------------------------\n",
    "# Evaluation\n",
    "# ---------------------------\n",
    "y_pred = model.predict(X_test)\n",
    "y_prob = model.predict_proba(X_test)[:, 1]\n",
    "\n",
    "print(\"✅ Accuracy:\", accuracy_score(y_test, y_pred))\n",
    "print(\"📊 AUC:\", roc_auc_score(y_test, y_prob))\n",
    "print(\"\\n📄 Classification Report:\\n\", classification_report(y_test, y_pred, zero_division=0))\n",
    "\n",
    "# ---------------------------\n",
    "# Save Model and Metadata\n",
    "# ---------------------------\n",
    "with open(\"processor_success_model.pkl\", \"wb\") as f:\n",
    "    pickle.dump(model, f)\n",
    "\n",
    "with open(\"processor_success_stats.pkl\", \"wb\") as f:\n",
    "    pickle.dump({\n",
    "        \"bin_tx\": bin_tx.set_index(\"bin\").to_dict(orient=\"index\"),\n",
    "        \"bin_success\": bin_success.set_index(\"bin\").to_dict(orient=\"index\"),\n",
    "        \"proc_success\": proc_success.set_index(\"processor_name_encoded\").to_dict(orient=\"index\"),\n",
    "        \"bin_proc_stats\": bin_proc_group.set_index(['bin', 'processor_name_encoded']).to_dict(orient=\"index\"),\n",
    "        \"all_processors\": list(model_df['processor_name_encoded'].unique())\n",
    "    }, f)\n",
    "\n",
    "print(\"\\n✅ Exported processor success model and supporting stats.\")\n",
    "\n",
    "train_preds = model.predict(X_train)\n",
    "print(\"Train Accuracy:\", accuracy_score(y_train, train_preds))\n"
   ]
  },
  {
   "cell_type": "code",
   "execution_count": 6,
   "id": "c4b24853",
   "metadata": {},
   "outputs": [
    {
     "data": {
      "image/png": "[encoded data removed]",
      "text/plain": [
       "<Figure size 640x480 with 2 Axes>"
      ]
     },
     "metadata": {},
     "output_type": "display_data"
    }
   ],
   "source": [
    "import matplotlib.pyplot as plt\n",
    "from sklearn.metrics import confusion_matrix, ConfusionMatrixDisplay\n",
    "\n",
    "# Predict on test set\n",
    "y_pred = model.predict(X_test)\n",
    "\n",
    "# Plot Confusion Matrix\n",
    "cm = confusion_matrix(y_test, y_pred)\n",
    "disp = ConfusionMatrixDisplay(confusion_matrix=cm, display_labels=model.classes_)\n",
    "disp.plot(cmap='Blues')\n",
    "plt.title(\"Confusion Matrix\")\n",
    "plt.grid(False)\n",
    "plt.show()\n"
   ]
  },
  {
   "cell_type": "code",
   "execution_count": 7,
   "id": "4133c7c4",
   "metadata": {},
   "outputs": [
    {
     "data": {
      "image/png": "[encoded data removed]",
      "text/plain": [
       "<Figure size 600x500 with 1 Axes>"
      ]
     },
     "metadata": {},
     "output_type": "display_data"
    }
   ],
   "source": [
    "from sklearn.metrics import roc_curve, auc\n",
    "\n",
    "# Get probabilities\n",
    "y_scores = model.predict_proba(X_test)[:, 1]\n",
    "\n",
    "# Calculate ROC\n",
    "fpr, tpr, thresholds = roc_curve(y_test, y_scores)\n",
    "roc_auc = auc(fpr, tpr)\n",
    "\n",
    "# Plot\n",
    "plt.figure(figsize=(6, 5))\n",
    "plt.plot(fpr, tpr, label=f\"AUC = {roc_auc:.2f}\", color=\"darkorange\")\n",
    "plt.plot([0, 1], [0, 1], linestyle=\"--\", color=\"gray\")\n",
    "plt.xlabel(\"False Positive Rate\")\n",
    "plt.ylabel(\"True Positive Rate\")\n",
    "plt.title(\"ROC Curve\")\n",
    "plt.legend()\n",
    "plt.grid(True)\n",
    "plt.show()\n"
   ]
  },
  {
   "cell_type": "code",
   "execution_count": 8,
   "id": "95c856ed",
   "metadata": {},
   "outputs": [
    {
     "data": {
      "image/png": "[encoded data removed]",
      "text/plain": [
       "<Figure size 600x500 with 1 Axes>"
      ]
     },
     "metadata": {},
     "output_type": "display_data"
    }
   ],
   "source": [
    "from sklearn.metrics import precision_recall_curve\n",
    "\n",
    "precision, recall, _ = precision_recall_curve(y_test, y_scores)\n",
    "\n",
    "# Plot\n",
    "plt.figure(figsize=(6, 5))\n",
    "plt.plot(recall, precision, color=\"purple\")\n",
    "plt.xlabel(\"Recall\")\n",
    "plt.ylabel(\"Precision\")\n",
    "plt.title(\"Precision-Recall Curve\")\n",
    "plt.grid(True)\n",
    "plt.show()\n"
   ]
  },
  {
   "cell_type": "code",
   "execution_count": 4,
   "id": "088f3fa6",
   "metadata": {},
   "outputs": [],
   "source": [
    "import pandas as pd\n",
    "import pickle\n",
    "import json\n",
    "\n",
    "# Load model and stats\n",
    "with open(\"processor_success_model.pkl\", \"rb\") as f_model, \\\n",
    "     open(\"processor_success_stats.pkl\", \"rb\") as f_stats, \\\n",
    "     open(\"processor_name_mapping.json\", \"r\") as f_map:\n",
    "\n",
    "    model = pickle.load(f_model)\n",
    "    stats = pickle.load(f_stats)\n",
    "    processor_name_map = json.load(f_map)\n",
    "\n",
    "# Reverse the mapping: {0: \"TWP\"} etc.\n",
    "reverse_processor_map = {v: k for k, v in processor_name_map.items()}\n",
    "\n",
    "# Modified prediction function\n",
    "def predict_top_processors(bin_number, is_3d_encoded, model, stats, processor_name_map, top_n=3, threshold=0.80):\n",
    "    external_processors = {\n",
    "        \"TWP\", \"TWP (US)\", \"Fin - MID 01\", \"Npay\", \"Dreamzpay - Altitudepay\"\n",
    "    }\n",
    "\n",
    "    bin_prefix = bin_number // 1000\n",
    "    bin_suffix = bin_number % 1000\n",
    "\n",
    "    rows = []\n",
    "    for processor_id in stats[\"all_processors\"]:\n",
    "        bin_stats = stats[\"bin_tx\"].get(bin_number, {})\n",
    "        bin_success = stats[\"bin_success\"].get(bin_number, {}).get(\"bin_success_rate\", 0.0)\n",
    "        proc_success = stats[\"proc_success\"].get(processor_id, {}).get(\"processor_success_rate\", 0.0)\n",
    "        bin_proc_stats = stats[\"bin_proc_stats\"].get((bin_number, processor_id), {})\n",
    "\n",
    "        row = {\n",
    "            \"bin\": bin_number,\n",
    "            \"bin_prefix\": bin_prefix,\n",
    "            \"bin_suffix\": bin_suffix,\n",
    "            \"is_3d_encoded\": is_3d_encoded,\n",
    "            \"bin_tx_count\": bin_stats.get(\"bin_tx_count\", 0),\n",
    "            \"bin_success_rate\": bin_success,\n",
    "            \"processor_success_rate\": proc_success,\n",
    "            \"bin_processor_tx_count\": bin_proc_stats.get(\"bin_processor_tx_count\", 0),\n",
    "            \"bin_processor_success_count\": bin_proc_stats.get(\"bin_processor_success_count\", 0),\n",
    "            \"bin_processor_success_rate\": bin_proc_stats.get(\"bin_processor_success_rate\", 0.0)\n",
    "        }\n",
    "        rows.append((processor_id, row))\n",
    "\n",
    "    df_pred = pd.DataFrame([r[1] for r in rows])\n",
    "    probabilities = model.predict_proba(df_pred)[:, 1]\n",
    "\n",
    "    # Convert to processor names using reverse map\n",
    "    results = sorted(\n",
    "        [{\n",
    "            \"processor\": reverse_processor_map.get(r[0], f\"Unknown ID {r[0]}\"),\n",
    "            \"predicted_success\": prob\n",
    "        } for r, prob in zip(rows, probabilities)],\n",
    "        key=lambda x: x[\"predicted_success\"],\n",
    "        reverse=True\n",
    "    )\n",
    "\n",
    "    internal = [r for r in results if r[\"processor\"] not in external_processors and r[\"predicted_success\"] >= threshold]\n",
    "    external = [r for r in results if r[\"processor\"] in external_processors]\n",
    "\n",
    "    return (internal if internal else external)[:top_n]\n",
    "\n"
   ]
  },
  {
   "cell_type": "code",
   "execution_count": 5,
   "id": "5ab88071",
   "metadata": {},
   "outputs": [
    {
     "ename": "ValueError",
     "evalue": "feature_names mismatch: ['bin', 'bin_prefix', 'bin_suffix', 'is_3d_encoded', 'bin_tx_count', 'bin_success_rate', 'processor_success_rate', 'processor_tx_count', 'log_processor_tx_count', 'processor_confidence_score', 'is_risky_processor', 'bin_processor_tx_count', 'bin_processor_success_count', 'bin_processor_success_rate'] ['bin', 'bin_prefix', 'bin_suffix', 'is_3d_encoded', 'bin_tx_count', 'bin_success_rate', 'processor_success_rate', 'bin_processor_tx_count', 'bin_processor_success_count', 'bin_processor_success_rate']\nexpected log_processor_tx_count, processor_confidence_score, processor_tx_count, is_risky_processor in input data",
     "output_type": "error",
     "traceback": [
      "\u001b[31m---------------------------------------------------------------------------\u001b[39m",
      "\u001b[31mValueError\u001b[39m                                Traceback (most recent call last)",
      "\u001b[36mCell\u001b[39m\u001b[36m \u001b[39m\u001b[32mIn[5]\u001b[39m\u001b[32m, line 5\u001b[39m\n\u001b[32m      2\u001b[39m bin_number = \u001b[32m462263\u001b[39m\n\u001b[32m      3\u001b[39m is_3d_encoded = \u001b[32m1\u001b[39m\n\u001b[32m----> \u001b[39m\u001b[32m5\u001b[39m top_processors = \u001b[43mpredict_top_processors\u001b[49m\u001b[43m(\u001b[49m\n\u001b[32m      6\u001b[39m \u001b[43m    \u001b[49m\u001b[43mbin_number\u001b[49m\u001b[43m,\u001b[49m\u001b[43m \u001b[49m\u001b[43mis_3d_encoded\u001b[49m\u001b[43m,\u001b[49m\u001b[43m \u001b[49m\u001b[43mmodel\u001b[49m\u001b[43m,\u001b[49m\u001b[43m \u001b[49m\u001b[43mstats\u001b[49m\u001b[43m,\u001b[49m\u001b[43m \u001b[49m\u001b[43mprocessor_name_map\u001b[49m\n\u001b[32m      7\u001b[39m \u001b[43m)\u001b[49m\n\u001b[32m      9\u001b[39m \u001b[38;5;66;03m# Show results\u001b[39;00m\n\u001b[32m     10\u001b[39m \u001b[38;5;28mprint\u001b[39m(\u001b[33m\"\u001b[39m\u001b[33m💡 Recommended Processors:\u001b[39m\u001b[33m\"\u001b[39m)\n",
      "\u001b[36mCell\u001b[39m\u001b[36m \u001b[39m\u001b[32mIn[4]\u001b[39m\u001b[32m, line 48\u001b[39m, in \u001b[36mpredict_top_processors\u001b[39m\u001b[34m(bin_number, is_3d_encoded, model, stats, processor_name_map, top_n, threshold)\u001b[39m\n\u001b[32m     45\u001b[39m     rows.append((processor_id, row))\n\u001b[32m     47\u001b[39m df_pred = pd.DataFrame([r[\u001b[32m1\u001b[39m] \u001b[38;5;28;01mfor\u001b[39;00m r \u001b[38;5;129;01min\u001b[39;00m rows])\n\u001b[32m---> \u001b[39m\u001b[32m48\u001b[39m probabilities = \u001b[43mmodel\u001b[49m\u001b[43m.\u001b[49m\u001b[43mpredict_proba\u001b[49m\u001b[43m(\u001b[49m\u001b[43mdf_pred\u001b[49m\u001b[43m)\u001b[49m[:, \u001b[32m1\u001b[39m]\n\u001b[32m     50\u001b[39m \u001b[38;5;66;03m# Convert to processor names using reverse map\u001b[39;00m\n\u001b[32m     51\u001b[39m results = \u001b[38;5;28msorted\u001b[39m(\n\u001b[32m     52\u001b[39m     [{\n\u001b[32m     53\u001b[39m         \u001b[33m\"\u001b[39m\u001b[33mprocessor\u001b[39m\u001b[33m\"\u001b[39m: reverse_processor_map.get(r[\u001b[32m0\u001b[39m], \u001b[33mf\u001b[39m\u001b[33m\"\u001b[39m\u001b[33mUnknown ID \u001b[39m\u001b[38;5;132;01m{\u001b[39;00mr[\u001b[32m0\u001b[39m]\u001b[38;5;132;01m}\u001b[39;00m\u001b[33m\"\u001b[39m),\n\u001b[32m   (...)\u001b[39m\u001b[32m     57\u001b[39m     reverse=\u001b[38;5;28;01mTrue\u001b[39;00m\n\u001b[32m     58\u001b[39m )\n",
      "\u001b[36mFile \u001b[39m\u001b[32mc:\\Users\\Dell\\AppData\\Local\\Programs\\Python\\Python312\\Lib\\site-packages\\xgboost\\sklearn.py:1797\u001b[39m, in \u001b[36mXGBClassifier.predict_proba\u001b[39m\u001b[34m(self, X, validate_features, base_margin, iteration_range)\u001b[39m\n\u001b[32m   1795\u001b[39m     class_prob = softmax(raw_predt, axis=\u001b[32m1\u001b[39m)\n\u001b[32m   1796\u001b[39m     \u001b[38;5;28;01mreturn\u001b[39;00m class_prob\n\u001b[32m-> \u001b[39m\u001b[32m1797\u001b[39m class_probs = \u001b[38;5;28;43msuper\u001b[39;49m\u001b[43m(\u001b[49m\u001b[43m)\u001b[49m\u001b[43m.\u001b[49m\u001b[43mpredict\u001b[49m\u001b[43m(\u001b[49m\n\u001b[32m   1798\u001b[39m \u001b[43m    \u001b[49m\u001b[43mX\u001b[49m\u001b[43m=\u001b[49m\u001b[43mX\u001b[49m\u001b[43m,\u001b[49m\n\u001b[32m   1799\u001b[39m \u001b[43m    \u001b[49m\u001b[43mvalidate_features\u001b[49m\u001b[43m=\u001b[49m\u001b[43mvalidate_features\u001b[49m\u001b[43m,\u001b[49m\n\u001b[32m   1800\u001b[39m \u001b[43m    \u001b[49m\u001b[43mbase_margin\u001b[49m\u001b[43m=\u001b[49m\u001b[43mbase_margin\u001b[49m\u001b[43m,\u001b[49m\n\u001b[32m   1801\u001b[39m \u001b[43m    \u001b[49m\u001b[43miteration_range\u001b[49m\u001b[43m=\u001b[49m\u001b[43miteration_range\u001b[49m\u001b[43m,\u001b[49m\n\u001b[32m   1802\u001b[39m \u001b[43m\u001b[49m\u001b[43m)\u001b[49m\n\u001b[32m   1803\u001b[39m \u001b[38;5;28;01mreturn\u001b[39;00m _cls_predict_proba(\u001b[38;5;28mself\u001b[39m.n_classes_, class_probs, np.vstack)\n",
      "\u001b[36mFile \u001b[39m\u001b[32mc:\\Users\\Dell\\AppData\\Local\\Programs\\Python\\Python312\\Lib\\site-packages\\xgboost\\core.py:729\u001b[39m, in \u001b[36mrequire_keyword_args.<locals>.throw_if.<locals>.inner_f\u001b[39m\u001b[34m(*args, **kwargs)\u001b[39m\n\u001b[32m    727\u001b[39m \u001b[38;5;28;01mfor\u001b[39;00m k, arg \u001b[38;5;129;01min\u001b[39;00m \u001b[38;5;28mzip\u001b[39m(sig.parameters, args):\n\u001b[32m    728\u001b[39m     kwargs[k] = arg\n\u001b[32m--> \u001b[39m\u001b[32m729\u001b[39m \u001b[38;5;28;01mreturn\u001b[39;00m \u001b[43mfunc\u001b[49m\u001b[43m(\u001b[49m\u001b[43m*\u001b[49m\u001b[43m*\u001b[49m\u001b[43mkwargs\u001b[49m\u001b[43m)\u001b[49m\n",
      "\u001b[36mFile \u001b[39m\u001b[32mc:\\Users\\Dell\\AppData\\Local\\Programs\\Python\\Python312\\Lib\\site-packages\\xgboost\\sklearn.py:1327\u001b[39m, in \u001b[36mXGBModel.predict\u001b[39m\u001b[34m(self, X, output_margin, validate_features, base_margin, iteration_range)\u001b[39m\n\u001b[32m   1325\u001b[39m \u001b[38;5;28;01mif\u001b[39;00m \u001b[38;5;28mself\u001b[39m._can_use_inplace_predict():\n\u001b[32m   1326\u001b[39m     \u001b[38;5;28;01mtry\u001b[39;00m:\n\u001b[32m-> \u001b[39m\u001b[32m1327\u001b[39m         predts = \u001b[38;5;28;43mself\u001b[39;49m\u001b[43m.\u001b[49m\u001b[43mget_booster\u001b[49m\u001b[43m(\u001b[49m\u001b[43m)\u001b[49m\u001b[43m.\u001b[49m\u001b[43minplace_predict\u001b[49m\u001b[43m(\u001b[49m\n\u001b[32m   1328\u001b[39m \u001b[43m            \u001b[49m\u001b[43mdata\u001b[49m\u001b[43m=\u001b[49m\u001b[43mX\u001b[49m\u001b[43m,\u001b[49m\n\u001b[32m   1329\u001b[39m \u001b[43m            \u001b[49m\u001b[43miteration_range\u001b[49m\u001b[43m=\u001b[49m\u001b[43miteration_range\u001b[49m\u001b[43m,\u001b[49m\n\u001b[32m   1330\u001b[39m \u001b[43m            \u001b[49m\u001b[43mpredict_type\u001b[49m\u001b[43m=\u001b[49m\u001b[33;43m\"\u001b[39;49m\u001b[33;43mmargin\u001b[39;49m\u001b[33;43m\"\u001b[39;49m\u001b[43m \u001b[49m\u001b[38;5;28;43;01mif\u001b[39;49;00m\u001b[43m \u001b[49m\u001b[43moutput_margin\u001b[49m\u001b[43m \u001b[49m\u001b[38;5;28;43;01melse\u001b[39;49;00m\u001b[43m \u001b[49m\u001b[33;43m\"\u001b[39;49m\u001b[33;43mvalue\u001b[39;49m\u001b[33;43m\"\u001b[39;49m\u001b[43m,\u001b[49m\n\u001b[32m   1331\u001b[39m \u001b[43m            \u001b[49m\u001b[43mmissing\u001b[49m\u001b[43m=\u001b[49m\u001b[38;5;28;43mself\u001b[39;49m\u001b[43m.\u001b[49m\u001b[43mmissing\u001b[49m\u001b[43m,\u001b[49m\n\u001b[32m   1332\u001b[39m \u001b[43m            \u001b[49m\u001b[43mbase_margin\u001b[49m\u001b[43m=\u001b[49m\u001b[43mbase_margin\u001b[49m\u001b[43m,\u001b[49m\n\u001b[32m   1333\u001b[39m \u001b[43m            \u001b[49m\u001b[43mvalidate_features\u001b[49m\u001b[43m=\u001b[49m\u001b[43mvalidate_features\u001b[49m\u001b[43m,\u001b[49m\n\u001b[32m   1334\u001b[39m \u001b[43m        \u001b[49m\u001b[43m)\u001b[49m\n\u001b[32m   1335\u001b[39m         \u001b[38;5;28;01mif\u001b[39;00m _is_cupy_alike(predts):\n\u001b[32m   1336\u001b[39m             cp = import_cupy()\n",
      "\u001b[36mFile \u001b[39m\u001b[32mc:\\Users\\Dell\\AppData\\Local\\Programs\\Python\\Python312\\Lib\\site-packages\\xgboost\\core.py:729\u001b[39m, in \u001b[36mrequire_keyword_args.<locals>.throw_if.<locals>.inner_f\u001b[39m\u001b[34m(*args, **kwargs)\u001b[39m\n\u001b[32m    727\u001b[39m \u001b[38;5;28;01mfor\u001b[39;00m k, arg \u001b[38;5;129;01min\u001b[39;00m \u001b[38;5;28mzip\u001b[39m(sig.parameters, args):\n\u001b[32m    728\u001b[39m     kwargs[k] = arg\n\u001b[32m--> \u001b[39m\u001b[32m729\u001b[39m \u001b[38;5;28;01mreturn\u001b[39;00m \u001b[43mfunc\u001b[49m\u001b[43m(\u001b[49m\u001b[43m*\u001b[49m\u001b[43m*\u001b[49m\u001b[43mkwargs\u001b[49m\u001b[43m)\u001b[49m\n",
      "\u001b[36mFile \u001b[39m\u001b[32mc:\\Users\\Dell\\AppData\\Local\\Programs\\Python\\Python312\\Lib\\site-packages\\xgboost\\core.py:2667\u001b[39m, in \u001b[36mBooster.inplace_predict\u001b[39m\u001b[34m(self, data, iteration_range, predict_type, missing, validate_features, base_margin, strict_shape)\u001b[39m\n\u001b[32m   2665\u001b[39m     data, fns, _ = _transform_pandas_df(data, enable_categorical)\n\u001b[32m   2666\u001b[39m     \u001b[38;5;28;01mif\u001b[39;00m validate_features:\n\u001b[32m-> \u001b[39m\u001b[32m2667\u001b[39m         \u001b[38;5;28;43mself\u001b[39;49m\u001b[43m.\u001b[49m\u001b[43m_validate_features\u001b[49m\u001b[43m(\u001b[49m\u001b[43mfns\u001b[49m\u001b[43m)\u001b[49m\n\u001b[32m   2668\u001b[39m \u001b[38;5;28;01mif\u001b[39;00m _is_list(data) \u001b[38;5;129;01mor\u001b[39;00m _is_tuple(data):\n\u001b[32m   2669\u001b[39m     data = np.array(data)\n",
      "\u001b[36mFile \u001b[39m\u001b[32mc:\\Users\\Dell\\AppData\\Local\\Programs\\Python\\Python312\\Lib\\site-packages\\xgboost\\core.py:3243\u001b[39m, in \u001b[36mBooster._validate_features\u001b[39m\u001b[34m(self, feature_names)\u001b[39m\n\u001b[32m   3237\u001b[39m \u001b[38;5;28;01mif\u001b[39;00m my_missing:\n\u001b[32m   3238\u001b[39m     msg += (\n\u001b[32m   3239\u001b[39m         \u001b[33m\"\u001b[39m\u001b[38;5;130;01m\\n\u001b[39;00m\u001b[33mtraining data did not have the following fields: \u001b[39m\u001b[33m\"\u001b[39m\n\u001b[32m   3240\u001b[39m         + \u001b[33m\"\u001b[39m\u001b[33m, \u001b[39m\u001b[33m\"\u001b[39m.join(\u001b[38;5;28mstr\u001b[39m(s) \u001b[38;5;28;01mfor\u001b[39;00m s \u001b[38;5;129;01min\u001b[39;00m my_missing)\n\u001b[32m   3241\u001b[39m     )\n\u001b[32m-> \u001b[39m\u001b[32m3243\u001b[39m \u001b[38;5;28;01mraise\u001b[39;00m \u001b[38;5;167;01mValueError\u001b[39;00m(msg.format(\u001b[38;5;28mself\u001b[39m.feature_names, feature_names))\n",
      "\u001b[31mValueError\u001b[39m: feature_names mismatch: ['bin', 'bin_prefix', 'bin_suffix', 'is_3d_encoded', 'bin_tx_count', 'bin_success_rate', 'processor_success_rate', 'processor_tx_count', 'log_processor_tx_count', 'processor_confidence_score', 'is_risky_processor', 'bin_processor_tx_count', 'bin_processor_success_count', 'bin_processor_success_rate'] ['bin', 'bin_prefix', 'bin_suffix', 'is_3d_encoded', 'bin_tx_count', 'bin_success_rate', 'processor_success_rate', 'bin_processor_tx_count', 'bin_processor_success_count', 'bin_processor_success_rate']\nexpected log_processor_tx_count, processor_confidence_score, processor_tx_count, is_risky_processor in input data"
     ]
    }
   ],
   "source": [
    "# Predict top processors by name\n",
    "bin_number = 462263\n",
    "is_3d_encoded = 1\n",
    "\n",
    "top_processors = predict_top_processors(\n",
    "    bin_number, is_3d_encoded, model, stats, processor_name_map\n",
    ")\n",
    "\n",
    "# Show results\n",
    "print(\"💡 Recommended Processors:\")\n",
    "for i, rec in enumerate(top_processors, 1):\n",
    "    print(f\"{i}. {rec['processor']} → Predicted Success: {rec['predicted_success']:.2%}\")\n"
   ]
  }
 ],
 "metadata": {
  "kernelspec": {
   "display_name": "Python 3",
   "language": "python",
   "name": "python3"
  },
  "language_info": {
   "codemirror_mode": {
    "name": "ipython",
    "version": 3
   },
   "file_extension": ".py",
   "mimetype": "text/x-python",
   "name": "python",
   "nbconvert_exporter": "python",
   "pygments_lexer": "ipython3",
   "version": "3.12.7"
  }
 },
 "nbformat": 4,
 "nbformat_minor": 5
}
